{
 "cells": [
  {
   "cell_type": "markdown",
   "id": "2058a42e",
   "metadata": {},
   "source": [
    "# COP501 CW - George Brown"
   ]
  },
  {
   "cell_type": "markdown",
   "id": "09a3faad",
   "metadata": {},
   "source": [
    "### Import statements"
   ]
  },
  {
   "cell_type": "code",
   "execution_count": 1,
   "id": "757951cb",
   "metadata": {},
   "outputs": [],
   "source": [
    "from gameSearch import *\n",
    "from gameRent import *\n",
    "from gameReturn import *\n",
    "from gameSelect import *\n",
    "import ipywidgets as widgets\n",
    "from IPython.display import clear_output\n"
   ]
  },
  {
   "cell_type": "markdown",
   "id": "46cc46da",
   "metadata": {},
   "source": [
    "### Create Instances"
   ]
  },
  {
   "cell_type": "code",
   "execution_count": 2,
   "id": "6f0ef214",
   "metadata": {},
   "outputs": [],
   "source": [
    "gamesearch = GameSearch()\n",
    "gamerent = GameRent()\n",
    "gamereturn = GameReturn()\n",
    "gameselect = GameSelect()\n"
   ]
  },
  {
   "cell_type": "markdown",
   "id": "56e852c3",
   "metadata": {},
   "source": [
    "### Initialise database"
   ]
  },
  {
   "cell_type": "code",
   "execution_count": 3,
   "id": "00c506c9",
   "metadata": {},
   "outputs": [],
   "source": [
    "def initialise_databases(btn):\n",
    "    clear_output(wait=True)\n",
    "    display(allw)\n",
    "    gamesearch.__init__()\n",
    "    with output:\n",
    "        clear_output(wait=True)\n",
    "        print(\"Database initialised.\")\n",
    "\n"
   ]
  },
  {
   "cell_type": "markdown",
   "id": "4aefedac",
   "metadata": {},
   "source": [
    "### Search for game "
   ]
  },
  {
   "cell_type": "code",
   "execution_count": 4,
   "id": "6d5c4b76",
   "metadata": {},
   "outputs": [],
   "source": [
    "def search_game(game_title):\n",
    "    clear_output(wait=True)\n",
    "    display(allw)\n",
    "    game_title = game_search_field.value\n",
    "    with output:\n",
    "        clear_output(wait=True)  # Clear the output area without removing the buttons\n",
    "        gamesearch.search_games_by_title(game_title)\n",
    "    \n"
   ]
  },
  {
   "cell_type": "markdown",
   "id": "3207f042",
   "metadata": {},
   "source": [
    "### Rent Game"
   ]
  },
  {
   "cell_type": "code",
   "execution_count": 5,
   "id": "2278508f",
   "metadata": {},
   "outputs": [],
   "source": [
    "def rent_game(b):\n",
    "    clear_output(wait=True)\n",
    "    display(allw)\n",
    "    customer_id = customer_id_field.value\n",
    "    game_id = game_id_field.value\n",
    "    \n",
    "    if not (customer_id.isdigit() and int(customer_id) > 0):\n",
    "        print(\"Enter a valid customer ID number.\")\n",
    "        return\n",
    "    \n",
    "    if not (game_id.isdigit() and int(game_id) > 0):\n",
    "        print(\"Enter a valid game ID number.\")\n",
    "        return\n",
    "    \n",
    "    result = gamerent.rent_game(customer_id, game_id)\n",
    "    with output:\n",
    "        clear_output(wait=True)\n",
    "        print(result)\n",
    "\n",
    "\n",
    "\n",
    "    \n",
    "    "
   ]
  },
  {
   "cell_type": "markdown",
   "id": "1e9fd984",
   "metadata": {},
   "source": [
    " ### Return Game"
   ]
  },
  {
   "cell_type": "code",
   "execution_count": 6,
   "id": "78656be6",
   "metadata": {},
   "outputs": [],
   "source": [
    "def return_game(b):\n",
    "    clear_output(wait=True)\n",
    "    display(allw)\n",
    "    customer_id = return_customer_id_field.value\n",
    "    game_id = return_game_id_field.value\n",
    "    \n",
    "    result = gamereturn.return_game(customer_id, game_id)\n",
    "    with output:\n",
    "        clear_output(wait=True)\n",
    "        print(result)"
   ]
  },
  {
   "cell_type": "markdown",
   "id": "a22b9aed",
   "metadata": {},
   "source": [
    "### Select Game"
   ]
  },
  {
   "cell_type": "code",
   "execution_count": 7,
   "id": "1d2fcc43",
   "metadata": {},
   "outputs": [],
   "source": [
    "\n",
    "def select_game(b):\n",
    "    clear_output(wait=True)\n",
    "    display(allw)\n",
    "\n",
    "    budget = budget_field.value\n",
    "    \n",
    "    try:\n",
    "        budget_int = int(budget)\n",
    "        if budget_int <= 0:\n",
    "            with output:\n",
    "                print(\"Budget must be a positive number.\")\n",
    "            return\n",
    "    except ValueError:\n",
    "        with output:\n",
    "            print(\"Budget must be a valid number.\")\n",
    "        return\n",
    "\n",
    "    recommendations = gameselect.select_games_for_purchase(budget_int)\n",
    "    \n",
    "    with output:\n",
    "        if not recommendations.empty:\n",
    "            clear_output(wait=True)\n",
    "            print(\"Purchase Recommendations:\")\n",
    "            \n",
    "            print(recommendations)\n",
    "  \n",
    "        else:\n",
    "            clear_output(wait=True)\n",
    "            print(\"No purchase recommendations found.\")\n"
   ]
  },
  {
   "cell_type": "markdown",
   "id": "bc058321",
   "metadata": {},
   "source": [
    "### Genre stats"
   ]
  },
  {
   "cell_type": "code",
   "execution_count": 8,
   "id": "f7ef7661",
   "metadata": {},
   "outputs": [],
   "source": [
    "def genre_stats(b):\n",
    "    clear_output(wait=True)\n",
    "    display(allw)\n",
    "    genre_popularity = gameselect.select_popular_genres()\n",
    "    \n",
    "    with output:\n",
    "        clear_output(wait=True)\n",
    "        \n",
    "        print(genre_popularity)\n",
    "\n",
    "        \n",
    "    \n",
    "    "
   ]
  },
  {
   "cell_type": "markdown",
   "id": "dfa55cf1",
   "metadata": {},
   "source": [
    "### Game title stats"
   ]
  },
  {
   "cell_type": "code",
   "execution_count": 9,
   "id": "b2520a47",
   "metadata": {},
   "outputs": [],
   "source": [
    "def game_title_stats(b):\n",
    "    clear_output(wait=True)\n",
    "    display(allw)\n",
    "    \n",
    "    title_popularity = gameselect.select_games_by_popularity()\n",
    "    \n",
    "    with output:\n",
    "        clear_output(wait=True)\n",
    "        print(title_popularity)\n",
    "        \n",
    "    "
   ]
  },
  {
   "cell_type": "markdown",
   "id": "713db188",
   "metadata": {},
   "source": [
    "### Rental History"
   ]
  },
  {
   "cell_type": "code",
   "execution_count": 10,
   "id": "d72fec43",
   "metadata": {},
   "outputs": [],
   "source": [
    "def rental_history(b):\n",
    "    clear_output(wait=True)\n",
    "    display(allw)\n",
    "    history = gamerent.view_rental_history()\n",
    "    with output:\n",
    "        clear_output(wait=True)\n",
    "        print(history)\n",
    "    "
   ]
  },
  {
   "cell_type": "markdown",
   "id": "733db4fc",
   "metadata": {},
   "source": [
    "### Purchase Game"
   ]
  },
  {
   "cell_type": "code",
   "execution_count": 11,
   "id": "1666146d",
   "metadata": {},
   "outputs": [],
   "source": [
    "def add_puchase(b):\n",
    "    \n",
    "    clear_output(wait=True)\n",
    "    display(allw)\n",
    "    \n",
    "    title = purchase_game_title_field.value\n",
    "    genre = purchase_genre_field.value\n",
    "    copies = int(purchase_copies_field.value)\n",
    "    purchase_price = purchase_price_field.value\n",
    "    platform = purchase_platform_field.value\n",
    "    \n",
    "    purchase_games = gameselect.add_purchased_games(title, genre, platform, copies, purchase_price)\n",
    "    \n",
    "    with output:\n",
    "        clear_output(wait=True)\n",
    "        print(purchase_games)"
   ]
  },
  {
   "cell_type": "markdown",
   "id": "4f91d4ba",
   "metadata": {},
   "source": [
    "### Main Menu"
   ]
  },
  {
   "cell_type": "code",
   "execution_count": 12,
   "id": "a66509ad",
   "metadata": {},
   "outputs": [],
   "source": [
    "\n",
    "\n",
    "# Set style for widget descriptions\n",
    "description_style = {'description_width': 'initial'}  # Adjust the width as needed\n",
    "\n",
    "# init button\n",
    "btnMain = widgets.Button(description='Initialize DB', layout=widgets.Layout(margin='0 20px 0 0'))\n",
    "btnMain.on_click(initialise_databases)\n",
    "\n",
    "# Search field\n",
    "game_search_field = widgets.Text(description=\"Enter game title:\", style=description_style)\n",
    "\n",
    "# Rent fields\n",
    "customer_id_field = widgets.Text(description=\"Enter customer ID:\", style=description_style)\n",
    "game_id_field = widgets.Text(description=\"Enter game ID:\", style=description_style)\n",
    "\n",
    "# Return fields\n",
    "return_customer_id_field = widgets.Text(description=\"Enter customer ID:\", style=description_style)\n",
    "return_game_id_field = widgets.Text(description=\"Enter game ID:\", style=description_style)\n",
    "\n",
    "# budget field\n",
    "budget_field = widgets.Text(description=\"Enter Budget:\", style=description_style)\n",
    "\n",
    "# purchase fields\n",
    "purchase_game_title_field = widgets.Text(description=\"Enter game title:\", style=description_style)\n",
    "purchase_genre_field = widgets.Text(description=\"Enter game genre:\", style=description_style)\n",
    "purchase_copies_field = widgets.Text(description=\"Enter number of copies:\", style=description_style)\n",
    "purchase_price_field = widgets.Text(description=\"Enter game price:\", style=description_style)\n",
    "purchase_platform_field = widgets.Text(description=\"Enter game platform:\", style=description_style)\n",
    "\n",
    "\n",
    "\n",
    "\n",
    "\n",
    "\n",
    "# Search Button\n",
    "search_button = widgets.Button(description=\"Search\", layout=widgets.Layout(margin='0 20px 0 0'))\n",
    "search_button.on_click(search_game)\n",
    "\n",
    "# Rent button\n",
    "rent_button = widgets.Button(description=\"Rent\", layout=widgets.Layout(margin='0 20px 0 0'))\n",
    "rent_button.on_click(rent_game)\n",
    "\n",
    "# Return button\n",
    "return_button = widgets.Button(description=\"Return\", layout=widgets.Layout(margin='0 20px 0 0'))\n",
    "return_button.on_click(return_game)\n",
    "\n",
    "# Select Button\n",
    "select_button = widgets.Button(description=\"Recommendations\", layout=widgets.Layout(margin='0 20px 0 0'))\n",
    "select_button.on_click(select_game)\n",
    "\n",
    "# History button\n",
    "history_button = widgets.Button(description=\"History\", layout=widgets.Layout(margin='0 20px 0 0'))\n",
    "history_button.on_click(rental_history)\n",
    "\n",
    "# Genre analytics\n",
    "genre_button = widgets.Button(description=\"Genre stats\", layout=widgets.Layout(margin='0 20px 0 0'))\n",
    "genre_button.on_click(genre_stats)\n",
    "\n",
    "# Game title analytics\n",
    "game_title_button = widgets.Button(description=\"Game title stats\", layout=widgets.Layout(margin='0 20px 0 0'))\n",
    "game_title_button.on_click(game_title_stats)\n",
    "\n",
    "# Purchase game button\n",
    "\n",
    "purchase_game_button = widgets.Button(description=\"Add\", layout=widgets.Layout(margin='0 20px 0 0'))\n",
    "purchase_game_button.on_click(add_puchase)\n",
    "\n",
    "#Titles\n",
    "\n",
    "# Title for Initialization Section\n",
    "init_title = widgets.HTML(value=\"<h2>Initialization</h2>\")\n",
    "\n",
    "# Search Title\n",
    "search_title = widgets.HTML(value=\"<h2>Search</h2>\")\n",
    "\n",
    "# Rent Title\n",
    "rent_title = widgets.HTML(value=\"<h2>Rent</h2>\")\n",
    "\n",
    "# Return Title\n",
    "return_title = widgets.HTML(value=\"<h2>Return</h2>\")\n",
    "\n",
    "# Select Title\n",
    "select_title = widgets.HTML(value=\"<h2>Game Select</h2>\")\n",
    "\n",
    "# Purchase Title\n",
    "purchase_title = widgets.HTML(value=\"<h2>Purchase</h2>\")\n",
    "\n",
    "\n",
    "\n",
    "\n",
    "output = widgets.Output()\n",
    "\n",
    "# Layout\n",
    "init_buttons = widgets.HBox([btnMain, history_button], layout=widgets.Layout(margin='10px 0'))\n",
    "game_search = widgets.HBox([game_search_field, search_button], layout=widgets.Layout(margin='10px 0'))\n",
    "game_rent = widgets.HBox([customer_id_field, game_id_field, rent_button], layout=widgets.Layout(margin='10px 0'))\n",
    "game_return = widgets.HBox([return_customer_id_field, return_game_id_field, return_button], layout=widgets.Layout(margin='10px 0'))\n",
    "analytics = widgets.HBox([game_title_button, genre_button], layout=widgets.Layout(margin='10px 0'))\n",
    "game_select = widgets.HBox([budget_field, select_button], layout=widgets.Layout(margin='10px 0'))\n",
    "game_purchase1 = widgets.HBox([purchase_game_title_field, purchase_genre_field, purchase_platform_field], layout=widgets.Layout(margin='10px 0'))\n",
    "game_purchase2 = widgets.HBox([purchase_copies_field,purchase_price_field,purchase_game_button], layout=widgets.Layout(margin='10px 0'))\n",
    "\n",
    "\n",
    "\n",
    "allw = widgets.VBox([init_title,init_buttons,search_title, game_search, rent_title, game_rent,return_title, game_return, select_title, analytics, game_select, purchase_title ,game_purchase1, game_purchase2, output])\n",
    "\n"
   ]
  },
  {
   "cell_type": "code",
   "execution_count": 13,
   "id": "f2e0b224",
   "metadata": {
    "scrolled": true
   },
   "outputs": [
    {
     "data": {
      "application/vnd.jupyter.widget-view+json": {
       "model_id": "e0804dd22ebb4c93ae93ab27703772b6",
       "version_major": 2,
       "version_minor": 0
      },
      "text/plain": [
       "VBox(children=(HTML(value='<h2>Initialization</h2>'), HBox(children=(Button(description='Initialize DB', layou…"
      ]
     },
     "metadata": {},
     "output_type": "display_data"
    },
    {
     "data": {
      "image/png": "[encoded data removed]",
      "text/plain": [
       "<Figure size 1000x600 with 1 Axes>"
      ]
     },
     "metadata": {},
     "output_type": "display_data"
    }
   ],
   "source": [
    "display(allw)\n"
   ]
  },
  {
   "cell_type": "code",
   "execution_count": null,
   "id": "a1d1b248",
   "metadata": {},
   "outputs": [],
   "source": []
  },
  {
   "cell_type": "code",
   "execution_count": null,
   "id": "ab9007cc",
   "metadata": {},
   "outputs": [],
   "source": []
  },
  {
   "cell_type": "code",
   "execution_count": null,
   "id": "a996d6ae",
   "metadata": {},
   "outputs": [],
   "source": []
  }
 ],
 "metadata": {
  "kernelspec": {
   "display_name": "Python 3 (ipykernel)",
   "language": "python",
   "name": "python3"
  },
  "language_info": {
   "codemirror_mode": {
    "name": "ipython",
    "version": 3
   },
   "file_extension": ".py",
   "mimetype": "text/x-python",
   "name": "python",
   "nbconvert_exporter": "python",
   "pygments_lexer": "ipython3",
   "version": "3.11.5"
  }
 },
 "nbformat": 4,
 "nbformat_minor": 5
}
